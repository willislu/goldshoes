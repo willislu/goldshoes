{
 "cells": [
  {
   "cell_type": "code",
   "execution_count": 3,
   "id": "5c7d09eb-7c2c-478e-a603-a61d9d79c3c6",
   "metadata": {},
   "outputs": [],
   "source": [
    "import pandas as pd\n",
    "pd.set_option('display.max_columns', None)\n",
    "from sklearn.model_selection import train_test_split\n",
    "from sklearn.linear_model import LinearRegression\n",
    "from sklearn.ensemble import RandomForestRegressor\n",
    "from xgboost import XGBRegressor\n",
    "from sklearn.metrics import mean_squared_error, r2_score"
   ]
  },
  {
   "cell_type": "code",
   "execution_count": 4,
   "id": "615ae321-7a5b-43f1-bd35-18b4002170b7",
   "metadata": {},
   "outputs": [],
   "source": [
    "data = pd.read_csv(r'C:\\Users\\luwil\\Documents\\NFL-Data\\NFL-data-Players\\combined_nfl_player_stats_all_years.csv')"
   ]
  },
  {
   "cell_type": "code",
   "execution_count": 10,
   "id": "3c96f717-de74-4eda-b9c3-0734d5c08325",
   "metadata": {},
   "outputs": [
    {
     "name": "stdout",
     "output_type": "stream",
     "text": [
      "Index(['PlayerId', 'Rank', 'TotalPoints', 'PassingYDS', 'PassingTD',\n",
      "       'PassingInt', 'RushingYDS', 'RushingTD', 'ReceivingRec', 'ReceivingYDS',\n",
      "       'ReceivingTD', 'RetTD', 'FumTD', '2PT', 'Fum', 'FanPtsAgainst-pts',\n",
      "       'TouchCarries', 'TouchReceptions', 'Touches', 'TargetsReceptions',\n",
      "       'Targets', 'ReceptionPercentage', 'RzTarget', 'RzTouch', 'RzG2G'],\n",
      "      dtype='object')\n"
     ]
    }
   ],
   "source": [
    "# Filter rows where 'column_name' is equal to any of the values in a list\n",
    "values_to_keep = ['WR', 'RB', 'TE', 'QB']\n",
    "offense = data[data['Pos'].isin(values_to_keep)]\n",
    "# Drop columns where all values are NaN\n",
    "data_cleaned = offense.dropna(axis=1, how='all')\n",
    "# Keep only numeric columns\n",
    "numeric_data = data_cleaned.select_dtypes(include=['number'])\n",
    "\n",
    "print(numeric_data.columns)\n"
   ]
  },
  {
   "cell_type": "code",
   "execution_count": 11,
   "id": "9ccbd078-a4f1-4a91-8141-f0a19f96ffbb",
   "metadata": {
    "scrolled": true
   },
   "outputs": [
    {
     "name": "stdout",
     "output_type": "stream",
     "text": [
      "Train shape: (7522, 25)\n",
      "Test shape: (1881, 25)\n"
     ]
    }
   ],
   "source": [
    "# Assuming 'data' is your DataFrame\n",
    "\n",
    "train_data, test_data = train_test_split(numeric_data, test_size=0.2, random_state=42)\n",
    "\n",
    "print(f\"Train shape: {train_data.shape}\")\n",
    "print(f\"Test shape: {test_data.shape}\")\n"
   ]
  },
  {
   "cell_type": "code",
   "execution_count": 17,
   "id": "c2a082af-65ea-4152-a6fc-e992fcf85de4",
   "metadata": {},
   "outputs": [
    {
     "name": "stdout",
     "output_type": "stream",
     "text": [
      "Random Forest: MSE=37.2477, R2=0.9908\n",
      "XGBoost: MSE=40.3058, R2=0.9901\n"
     ]
    }
   ],
   "source": [
    "\n",
    "# Example: split your data\n",
    "X = numeric_data.drop('TotalPoints', axis=1)\n",
    "y = data_cleaned['TotalPoints']\n",
    "\n",
    "X_train, X_test, y_train, y_test = train_test_split(X, y, test_size=0.2, random_state=42)\n",
    "\n",
    "# Initialize models\n",
    "models = {\n",
    "    \"Random Forest\": RandomForestRegressor(random_state=42),\n",
    "    \"XGBoost\": XGBRegressor(random_state=42, eval_metric='rmse')\n",
    "}\n",
    "\n",
    "# Train and evaluate each model\n",
    "for name, model in models.items():\n",
    "    model.fit(X_train, y_train)\n",
    "    preds = model.predict(X_test)\n",
    "    mse = mean_squared_error(y_test, preds)\n",
    "    r2 = r2_score(y_test, preds)\n",
    "    print(f\"{name}: MSE={mse:.4f}, R2={r2:.4f}\")\n"
   ]
  },
  {
   "cell_type": "code",
   "execution_count": 15,
   "id": "fb3a7ec4-9a22-46f8-95e2-7e23046910b0",
   "metadata": {},
   "outputs": [
    {
     "data": {
      "text/html": [
       "<div>\n",
       "<style scoped>\n",
       "    .dataframe tbody tr th:only-of-type {\n",
       "        vertical-align: middle;\n",
       "    }\n",
       "\n",
       "    .dataframe tbody tr th {\n",
       "        vertical-align: top;\n",
       "    }\n",
       "\n",
       "    .dataframe thead th {\n",
       "        text-align: right;\n",
       "    }\n",
       "</style>\n",
       "<table border=\"1\" class=\"dataframe\">\n",
       "  <thead>\n",
       "    <tr style=\"text-align: right;\">\n",
       "      <th></th>\n",
       "      <th>PlayerId</th>\n",
       "      <th>Rank</th>\n",
       "      <th>PassingYDS</th>\n",
       "      <th>PassingTD</th>\n",
       "      <th>PassingInt</th>\n",
       "      <th>RushingYDS</th>\n",
       "      <th>RushingTD</th>\n",
       "      <th>ReceivingRec</th>\n",
       "      <th>ReceivingYDS</th>\n",
       "      <th>ReceivingTD</th>\n",
       "      <th>RetTD</th>\n",
       "      <th>FumTD</th>\n",
       "      <th>2PT</th>\n",
       "      <th>Fum</th>\n",
       "      <th>FanPtsAgainst-pts</th>\n",
       "      <th>TouchCarries</th>\n",
       "      <th>TouchReceptions</th>\n",
       "      <th>Touches</th>\n",
       "      <th>TargetsReceptions</th>\n",
       "      <th>Targets</th>\n",
       "      <th>ReceptionPercentage</th>\n",
       "      <th>RzTarget</th>\n",
       "      <th>RzTouch</th>\n",
       "      <th>RzG2G</th>\n",
       "    </tr>\n",
       "  </thead>\n",
       "  <tbody>\n",
       "  </tbody>\n",
       "</table>\n",
       "</div>"
      ],
      "text/plain": [
       "Empty DataFrame\n",
       "Columns: [PlayerId, Rank, PassingYDS, PassingTD, PassingInt, RushingYDS, RushingTD, ReceivingRec, ReceivingYDS, ReceivingTD, RetTD, FumTD, 2PT, Fum, FanPtsAgainst-pts, TouchCarries, TouchReceptions, Touches, TargetsReceptions, Targets, ReceptionPercentage, RzTarget, RzTouch, RzG2G]\n",
       "Index: []"
      ]
     },
     "execution_count": 15,
     "metadata": {},
     "output_type": "execute_result"
    }
   ],
   "source": [
    "X_train_clean"
   ]
  },
  {
   "cell_type": "code",
   "execution_count": null,
   "id": "61e2eaac-403f-404b-a8cd-bba8030580c1",
   "metadata": {},
   "outputs": [],
   "source": []
  }
 ],
 "metadata": {
  "kernelspec": {
   "display_name": "Python [conda env:base] *",
   "language": "python",
   "name": "conda-base-py"
  },
  "language_info": {
   "codemirror_mode": {
    "name": "ipython",
    "version": 3
   },
   "file_extension": ".py",
   "mimetype": "text/x-python",
   "name": "python",
   "nbconvert_exporter": "python",
   "pygments_lexer": "ipython3",
   "version": "3.13.5"
  }
 },
 "nbformat": 4,
 "nbformat_minor": 5
}
